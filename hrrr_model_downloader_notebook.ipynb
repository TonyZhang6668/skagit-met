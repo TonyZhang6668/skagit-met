{
 "cells": [
  {
   "cell_type": "markdown",
   "id": "9d8c9edf-c8d7-4a34-a9de-f86f6cd9ffa6",
   "metadata": {},
   "source": [
    "### Imports and Setup"
   ]
  },
  {
   "cell_type": "code",
   "execution_count": 1,
   "id": "78d5c29d-629c-4888-8a1e-77d9aa913db0",
   "metadata": {},
   "outputs": [],
   "source": [
    "from herbie import Herbie, FastHerbie, wgrib2\n",
    "import pandas as pd\n",
    "import xarray as xr\n",
    "import geojson"
   ]
  },
  {
   "cell_type": "markdown",
   "id": "f202d41c-bbd9-4340-9056-2dda035a76f8",
   "metadata": {},
   "source": [
    "### Helper Functions"
   ]
  },
  {
   "cell_type": "code",
   "execution_count": 2,
   "id": "c7a93329-8afc-4de3-858e-b09ba311a26d",
   "metadata": {},
   "outputs": [],
   "source": [
    "# Takes a dict of vars you want to extract, and the corresponding granularities\n",
    "# Uses XARRAY accessors to limit them\n",
    "def download_parameters(parameters: dict, fh: FastHerbie) -> None:\n",
    "    fields = [f\":{param}:{level}\" for param, level in parameters.items()]\n",
    "    print(fields)\n",
    "    param_regex = fr\"^(?:{'|'.join(fields)})\"\n",
    "    print(param_regex)\n",
    "    return fh.download(param_regex)\n",
    "\n",
    "# What it does\n",
    "# Inputs/Parameters names and descriptions\n",
    "# Returns\n",
    "    "
   ]
  },
  {
   "cell_type": "code",
   "execution_count": 3,
   "id": "f9576655-f1b9-4551-ad02-d7476990e118",
   "metadata": {},
   "outputs": [],
   "source": [
    "def parseGeoJson(geojson_path: str) -> tuple[float, float, float, float]:\n",
    "    with open(geojson_path) as f:\n",
    "        poly = geojson.load(f)\n",
    "        bounds = list(geojson.utils.coords(poly))\n",
    "        long, lat = zip(*bounds)\n",
    "        return (min(long), max(long), min(lat), max(lat))\n",
    "\n",
    "def limitGeographicRange(bounds: tuple[float, float, float, float], subsetFiles: list) -> list:\n",
    "    return [wgrib2.region(f, bounds, name='skagit-basin') for f in subsetFiles]\n",
    "            "
   ]
  },
  {
   "cell_type": "markdown",
   "id": "6a5775ec-4aa5-4a2d-9818-438358c6b9e7",
   "metadata": {},
   "source": [
    "### Parameter Selection"
   ]
  },
  {
   "cell_type": "code",
   "execution_count": 4,
   "id": "fc916881-ab4f-4058-ae92-6f5494edb717",
   "metadata": {},
   "outputs": [
    {
     "name": "stdout",
     "output_type": "stream",
     "text": [
      "[':TMP:surface', ':RH:2 m above ground', ':WIND:10 m above ground', ':APCP:surface', ':DSWRF:surface', ':DLWRF:surface']\n",
      "^(?::TMP:surface|:RH:2 m above ground|:WIND:10 m above ground|:APCP:surface|:DSWRF:surface|:DLWRF:surface)\n",
      "👨🏻‍🏭 Created directory: [/Users/tonyzhang/data/hrrr/20200302]\n",
      "👨🏻‍🏭 Created directory: [/Users/tonyzhang/data/hrrr/20200303]\n",
      "👨🏻‍🏭 Created directory: [/Users/tonyzhang/data/hrrr/20200304]\n"
     ]
    }
   ],
   "source": [
    "model = 'hrrr' # Use HRRR Model\n",
    "product = 'sfc' # Use 2D surface level fields; 3-km resolution\n",
    "date_range = pd.date_range(\n",
    "    start=\"2020-03-02 00:00\",\n",
    "    end=\"2020-03-04 00:00\",\n",
    "    freq=\"1h\"\n",
    ")\n",
    "\n",
    "# Parameter Names scoped from here: \n",
    "# https://www.nco.ncep.noaa.gov/pmb/products/hrrr/hrrr.t00z.wrfsfcf00.grib2.shtml\n",
    "parameters = {\n",
    "    'TMP' : 'surface', # Temperature - Hourly\n",
    "    'RH' : '2 m above ground', # Relative Humidity - Hourly\n",
    "    'WIND': '10 m above ground', # Wind Speed - 0-0 day max f \n",
    "    'APCP': 'surface', # Total Precip - 0-0 day acc f \n",
    "    'DSWRF': 'surface', # Downward Short-Wave Radiation Flux - Hourly\n",
    "    'DLWRF': 'surface' # Downward Long-Wave Rad. Flux - Hourly\n",
    "}\n",
    "\n",
    "fh = FastHerbie(date_range, model=model, product=product)\n",
    "fh_files = download_parameters(parameters, fh)"
   ]
  },
  {
   "cell_type": "code",
   "execution_count": 5,
   "id": "612b48f7-eaac-4e23-b2ee-aebf6bb4c6e4",
   "metadata": {},
   "outputs": [
    {
     "data": {
      "text/plain": [
       "[PosixPath('/Users/tonyzhang/data/hrrr/20200302/skagit-basin_subset_dcef3e52__hrrr.t00z.wrfsfcf00.grib2'),\n",
       " PosixPath('/Users/tonyzhang/data/hrrr/20200302/skagit-basin_subset_94ef3e52__hrrr.t01z.wrfsfcf00.grib2'),\n",
       " PosixPath('/Users/tonyzhang/data/hrrr/20200302/skagit-basin_subset_b3ef3e52__hrrr.t02z.wrfsfcf00.grib2'),\n",
       " PosixPath('/Users/tonyzhang/data/hrrr/20200302/skagit-basin_subset_b5ef3e52__hrrr.t03z.wrfsfcf00.grib2'),\n",
       " PosixPath('/Users/tonyzhang/data/hrrr/20200302/skagit-basin_subset_5bef3e52__hrrr.t04z.wrfsfcf00.grib2'),\n",
       " PosixPath('/Users/tonyzhang/data/hrrr/20200302/skagit-basin_subset_e1ef3e52__hrrr.t05z.wrfsfcf00.grib2'),\n",
       " PosixPath('/Users/tonyzhang/data/hrrr/20200302/skagit-basin_subset_a1ef3e52__hrrr.t06z.wrfsfcf00.grib2'),\n",
       " PosixPath('/Users/tonyzhang/data/hrrr/20200302/skagit-basin_subset_caef3e52__hrrr.t07z.wrfsfcf00.grib2'),\n",
       " PosixPath('/Users/tonyzhang/data/hrrr/20200302/skagit-basin_subset_c3ef3e52__hrrr.t08z.wrfsfcf00.grib2'),\n",
       " PosixPath('/Users/tonyzhang/data/hrrr/20200302/skagit-basin_subset_27ef3e52__hrrr.t09z.wrfsfcf00.grib2'),\n",
       " PosixPath('/Users/tonyzhang/data/hrrr/20200302/skagit-basin_subset_9cef3e52__hrrr.t10z.wrfsfcf00.grib2'),\n",
       " PosixPath('/Users/tonyzhang/data/hrrr/20200302/skagit-basin_subset_eaef3e52__hrrr.t11z.wrfsfcf00.grib2'),\n",
       " PosixPath('/Users/tonyzhang/data/hrrr/20200302/skagit-basin_subset_c8ef3e52__hrrr.t12z.wrfsfcf00.grib2'),\n",
       " PosixPath('/Users/tonyzhang/data/hrrr/20200302/skagit-basin_subset_84ef3e52__hrrr.t13z.wrfsfcf00.grib2'),\n",
       " PosixPath('/Users/tonyzhang/data/hrrr/20200302/skagit-basin_subset_b2ef3e52__hrrr.t14z.wrfsfcf00.grib2'),\n",
       " PosixPath('/Users/tonyzhang/data/hrrr/20200302/skagit-basin_subset_6eef3e52__hrrr.t15z.wrfsfcf00.grib2'),\n",
       " PosixPath('/Users/tonyzhang/data/hrrr/20200302/skagit-basin_subset_71ef3e52__hrrr.t16z.wrfsfcf00.grib2'),\n",
       " PosixPath('/Users/tonyzhang/data/hrrr/20200302/skagit-basin_subset_8fef3e52__hrrr.t17z.wrfsfcf00.grib2'),\n",
       " PosixPath('/Users/tonyzhang/data/hrrr/20200302/skagit-basin_subset_f9ef3e52__hrrr.t18z.wrfsfcf00.grib2'),\n",
       " PosixPath('/Users/tonyzhang/data/hrrr/20200302/skagit-basin_subset_e8ef3e52__hrrr.t19z.wrfsfcf00.grib2'),\n",
       " PosixPath('/Users/tonyzhang/data/hrrr/20200302/skagit-basin_subset_a1ef3e52__hrrr.t20z.wrfsfcf00.grib2'),\n",
       " PosixPath('/Users/tonyzhang/data/hrrr/20200302/skagit-basin_subset_23ef3e52__hrrr.t21z.wrfsfcf00.grib2'),\n",
       " PosixPath('/Users/tonyzhang/data/hrrr/20200302/skagit-basin_subset_36ef3e52__hrrr.t22z.wrfsfcf00.grib2'),\n",
       " PosixPath('/Users/tonyzhang/data/hrrr/20200302/skagit-basin_subset_66ef3e52__hrrr.t23z.wrfsfcf00.grib2'),\n",
       " PosixPath('/Users/tonyzhang/data/hrrr/20200303/skagit-basin_subset_fcef3e52__hrrr.t00z.wrfsfcf00.grib2'),\n",
       " PosixPath('/Users/tonyzhang/data/hrrr/20200303/skagit-basin_subset_02ef3e52__hrrr.t01z.wrfsfcf00.grib2'),\n",
       " PosixPath('/Users/tonyzhang/data/hrrr/20200303/skagit-basin_subset_2aef3e52__hrrr.t02z.wrfsfcf00.grib2'),\n",
       " PosixPath('/Users/tonyzhang/data/hrrr/20200303/skagit-basin_subset_4cef3e52__hrrr.t03z.wrfsfcf00.grib2'),\n",
       " PosixPath('/Users/tonyzhang/data/hrrr/20200303/skagit-basin_subset_35ef3e52__hrrr.t04z.wrfsfcf00.grib2'),\n",
       " PosixPath('/Users/tonyzhang/data/hrrr/20200303/skagit-basin_subset_7def3e52__hrrr.t05z.wrfsfcf00.grib2'),\n",
       " PosixPath('/Users/tonyzhang/data/hrrr/20200303/skagit-basin_subset_8cef3e52__hrrr.t06z.wrfsfcf00.grib2'),\n",
       " PosixPath('/Users/tonyzhang/data/hrrr/20200303/skagit-basin_subset_beef3e52__hrrr.t07z.wrfsfcf00.grib2'),\n",
       " PosixPath('/Users/tonyzhang/data/hrrr/20200303/skagit-basin_subset_0fef3e52__hrrr.t08z.wrfsfcf00.grib2'),\n",
       " PosixPath('/Users/tonyzhang/data/hrrr/20200303/skagit-basin_subset_c6ef3e52__hrrr.t09z.wrfsfcf00.grib2'),\n",
       " PosixPath('/Users/tonyzhang/data/hrrr/20200303/skagit-basin_subset_dfef3e52__hrrr.t10z.wrfsfcf00.grib2'),\n",
       " PosixPath('/Users/tonyzhang/data/hrrr/20200303/skagit-basin_subset_7fef3e52__hrrr.t11z.wrfsfcf00.grib2'),\n",
       " PosixPath('/Users/tonyzhang/data/hrrr/20200303/skagit-basin_subset_caef3e52__hrrr.t12z.wrfsfcf00.grib2'),\n",
       " PosixPath('/Users/tonyzhang/data/hrrr/20200303/skagit-basin_subset_20ef3e52__hrrr.t13z.wrfsfcf00.grib2'),\n",
       " PosixPath('/Users/tonyzhang/data/hrrr/20200303/skagit-basin_subset_3aef3e52__hrrr.t14z.wrfsfcf00.grib2'),\n",
       " PosixPath('/Users/tonyzhang/data/hrrr/20200303/skagit-basin_subset_daef3e52__hrrr.t15z.wrfsfcf00.grib2'),\n",
       " PosixPath('/Users/tonyzhang/data/hrrr/20200303/skagit-basin_subset_53ef3e52__hrrr.t16z.wrfsfcf00.grib2'),\n",
       " PosixPath('/Users/tonyzhang/data/hrrr/20200303/skagit-basin_subset_b1ef3e52__hrrr.t17z.wrfsfcf00.grib2'),\n",
       " PosixPath('/Users/tonyzhang/data/hrrr/20200303/skagit-basin_subset_cbef3e52__hrrr.t18z.wrfsfcf00.grib2'),\n",
       " PosixPath('/Users/tonyzhang/data/hrrr/20200303/skagit-basin_subset_1eef3e52__hrrr.t19z.wrfsfcf00.grib2'),\n",
       " PosixPath('/Users/tonyzhang/data/hrrr/20200303/skagit-basin_subset_59ef3e52__hrrr.t20z.wrfsfcf00.grib2'),\n",
       " PosixPath('/Users/tonyzhang/data/hrrr/20200303/skagit-basin_subset_a8ef3e52__hrrr.t21z.wrfsfcf00.grib2'),\n",
       " PosixPath('/Users/tonyzhang/data/hrrr/20200303/skagit-basin_subset_fbef3e52__hrrr.t22z.wrfsfcf00.grib2'),\n",
       " PosixPath('/Users/tonyzhang/data/hrrr/20200303/skagit-basin_subset_cbef3e52__hrrr.t23z.wrfsfcf00.grib2'),\n",
       " PosixPath('/Users/tonyzhang/data/hrrr/20200304/skagit-basin_subset_05ef3e52__hrrr.t00z.wrfsfcf00.grib2')]"
      ]
     },
     "execution_count": 5,
     "metadata": {},
     "output_type": "execute_result"
    }
   ],
   "source": [
    "for f in fh_files:\n",
    "    wgrib2.create_inventory_file(f)\n",
    "bounds = parseGeoJson('Skagit River Basin.json')\n",
    "geo_limited_files = limitGeographicRange(bounds, fh_files)\n",
    "geo_limited_files"
   ]
  },
  {
   "cell_type": "code",
   "execution_count": 6,
   "id": "653b3fd0-39a6-469e-9e29-d9c239ea42cc",
   "metadata": {},
   "outputs": [
    {
     "name": "stderr",
     "output_type": "stream",
     "text": [
      "Matplotlib is building the font cache; this may take a moment.\n",
      "Ignoring index file '/Users/tonyzhang/data/hrrr/20200302/skagit-basin_subset_dcef3e52__hrrr.t00z.wrfsfcf00.grib2.9093e.idx' incompatible with GRIB file\n",
      "Ignoring index file '/Users/tonyzhang/data/hrrr/20200302/skagit-basin_subset_dcef3e52__hrrr.t00z.wrfsfcf00.grib2.9093e.idx' incompatible with GRIB file\n",
      "Ignoring index file '/Users/tonyzhang/data/hrrr/20200302/skagit-basin_subset_dcef3e52__hrrr.t00z.wrfsfcf00.grib2.9093e.idx' incompatible with GRIB file\n",
      "Ignoring index file '/Users/tonyzhang/data/hrrr/20200302/skagit-basin_subset_dcef3e52__hrrr.t00z.wrfsfcf00.grib2.9093e.idx' incompatible with GRIB file\n",
      "Ignoring index file '/Users/tonyzhang/data/hrrr/20200302/skagit-basin_subset_dcef3e52__hrrr.t00z.wrfsfcf00.grib2.9093e.idx' incompatible with GRIB file\n",
      "Ignoring index file '/Users/tonyzhang/data/hrrr/20200302/skagit-basin_subset_dcef3e52__hrrr.t00z.wrfsfcf00.grib2.9093e.idx' incompatible with GRIB file\n"
     ]
    }
   ],
   "source": [
    "# for f in geo_limited_files:\n",
    "#     wgrib2.create_inventory_file(f)\n",
    "\n",
    "import cfgrib\n",
    "# skagit = xr.open_dataset(geo_limited_files[0], engine=\"cfgrib\", filter_by_keys={'typeOfLevel': 'heightAboveGround', 'level':2})\n",
    "# skagit\n",
    "skagit = cfgrib.open_datasets(geo_limited_files[0])"
   ]
  },
  {
   "cell_type": "code",
   "execution_count": 7,
   "id": "26a5adb5-30c0-4c2b-b652-47d89b09b818",
   "metadata": {},
   "outputs": [
    {
     "data": {
      "text/plain": [
       "[<xarray.Dataset> Size: 73kB\n",
       " Dimensions:            (y: 64, x: 57)\n",
       " Coordinates:\n",
       "     time               datetime64[ns] 8B 2020-03-02\n",
       "     step               timedelta64[ns] 8B 00:00:00\n",
       "     heightAboveGround  float64 8B 10.0\n",
       "     latitude           (y, x) float64 29kB ...\n",
       "     longitude          (y, x) float64 29kB ...\n",
       "     valid_time         datetime64[ns] 8B ...\n",
       " Dimensions without coordinates: y, x\n",
       " Data variables:\n",
       "     si10               (y, x) float32 15kB ...\n",
       " Attributes:\n",
       "     GRIB_edition:            2\n",
       "     GRIB_centre:             kwbc\n",
       "     GRIB_centreDescription:  US National Weather Service - NCEP\n",
       "     GRIB_subCentre:          0\n",
       "     Conventions:             CF-1.7\n",
       "     institution:             US National Weather Service - NCEP,\n",
       " <xarray.Dataset> Size: 73kB\n",
       " Dimensions:            (y: 64, x: 57)\n",
       " Coordinates:\n",
       "     time               datetime64[ns] 8B 2020-03-02\n",
       "     step               timedelta64[ns] 8B 00:00:00\n",
       "     heightAboveGround  float64 8B 2.0\n",
       "     latitude           (y, x) float64 29kB ...\n",
       "     longitude          (y, x) float64 29kB ...\n",
       "     valid_time         datetime64[ns] 8B ...\n",
       " Dimensions without coordinates: y, x\n",
       " Data variables:\n",
       "     r2                 (y, x) float32 15kB ...\n",
       " Attributes:\n",
       "     GRIB_edition:            2\n",
       "     GRIB_centre:             kwbc\n",
       "     GRIB_centreDescription:  US National Weather Service - NCEP\n",
       "     GRIB_subCentre:          0\n",
       "     Conventions:             CF-1.7\n",
       "     institution:             US National Weather Service - NCEP,\n",
       " <xarray.Dataset> Size: 117kB\n",
       " Dimensions:     (y: 64, x: 57)\n",
       " Coordinates:\n",
       "     time        datetime64[ns] 8B 2020-03-02\n",
       "     step        timedelta64[ns] 8B 00:00:00\n",
       "     surface     float64 8B 0.0\n",
       "     latitude    (y, x) float64 29kB 47.7 47.71 47.71 47.72 ... 49.68 49.69 49.7\n",
       "     longitude   (y, x) float64 29kB 237.6 237.7 237.7 ... 239.1 239.1 239.2\n",
       "     valid_time  datetime64[ns] 8B 2020-03-02\n",
       " Dimensions without coordinates: y, x\n",
       " Data variables:\n",
       "     t           (y, x) float32 15kB ...\n",
       "     tp          (y, x) float32 15kB ...\n",
       "     dswrf       (y, x) float32 15kB ...\n",
       "     dlwrf       (y, x) float32 15kB ...\n",
       " Attributes:\n",
       "     GRIB_edition:            2\n",
       "     GRIB_centre:             kwbc\n",
       "     GRIB_centreDescription:  US National Weather Service - NCEP\n",
       "     GRIB_subCentre:          0\n",
       "     Conventions:             CF-1.7\n",
       "     institution:             US National Weather Service - NCEP]"
      ]
     },
     "execution_count": 7,
     "metadata": {},
     "output_type": "execute_result"
    }
   ],
   "source": [
    "bounds\n",
    "skagit"
   ]
  },
  {
   "cell_type": "code",
   "execution_count": 16,
   "id": "a9550bf1-7756-4a30-a2a2-10734217718f",
   "metadata": {},
   "outputs": [
    {
     "ename": "NameError",
     "evalue": "name 'H' is not defined",
     "output_type": "error",
     "traceback": [
      "\u001b[0;31m---------------------------------------------------------------------------\u001b[0m",
      "\u001b[0;31mNameError\u001b[0m                                 Traceback (most recent call last)",
      "Cell \u001b[0;32mIn[16], line 3\u001b[0m\n\u001b[1;32m      1\u001b[0m \u001b[38;5;28;01mfrom\u001b[39;00m \u001b[38;5;21;01mherbie\u001b[39;00m\u001b[38;5;21;01m.\u001b[39;00m\u001b[38;5;21;01mtoolbox\u001b[39;00m \u001b[38;5;28;01mimport\u001b[39;00m EasyMap, ccrs, pc\n\u001b[1;32m      2\u001b[0m ss \u001b[38;5;241m=\u001b[39m \u001b[38;5;124mr\u001b[39m\u001b[38;5;124m\"\u001b[39m\u001b[38;5;124m^(?::TMP:surface|:RH:2 m above ground|:WIND:10 m above ground|:APCP:surface|:DSWRF:surface|:DLWRF:surface)\u001b[39m\u001b[38;5;124m\"\u001b[39m\n\u001b[0;32m----> 3\u001b[0m ds \u001b[38;5;241m=\u001b[39m \u001b[43mH\u001b[49m\u001b[38;5;241m.\u001b[39mxarray(ss)\n\u001b[1;32m      4\u001b[0m crs \u001b[38;5;241m=\u001b[39m ds\u001b[38;5;241m.\u001b[39mherbie\u001b[38;5;241m.\u001b[39mcrs\n",
      "\u001b[0;31mNameError\u001b[0m: name 'H' is not defined"
     ]
    }
   ],
   "source": [
    "from herbie.toolbox import EasyMap, ccrs, pc\n",
    "ss = r\"^(?::TMP:surface|:RH:2 m above ground|:WIND:10 m above ground|:APCP:surface|:DSWRF:surface|:DLWRF:surface)\"\n",
    "ds = H.xarray(ss)\n",
    "crs = ds.herbie.crs"
   ]
  },
  {
   "cell_type": "code",
   "execution_count": 9,
   "id": "b250fbaa-853c-4de2-8970-5cfb8311b3c2",
   "metadata": {},
   "outputs": [
    {
     "data": {
      "text/plain": [
       "<cartopy.mpl.gridliner.Gridliner at 0x16cbfe160>"
      ]
     },
     "execution_count": 9,
     "metadata": {},
     "output_type": "execute_result"
    },
    {
     "name": "stderr",
     "output_type": "stream",
     "text": [
      "/Users/tonyzhang/anaconda3/envs/skagit-met/lib/python3.9/site-packages/cartopy/io/__init__.py:241: DownloadWarning: Downloading: https://naturalearth.s3.amazonaws.com/10m_physical/ne_10m_land.zip\n",
      "  warnings.warn(f'Downloading: {url}', DownloadWarning)\n",
      "/Users/tonyzhang/anaconda3/envs/skagit-met/lib/python3.9/site-packages/cartopy/io/__init__.py:241: DownloadWarning: Downloading: https://naturalearth.s3.amazonaws.com/10m_physical/ne_10m_ocean.zip\n",
      "  warnings.warn(f'Downloading: {url}', DownloadWarning)\n",
      "/Users/tonyzhang/anaconda3/envs/skagit-met/lib/python3.9/site-packages/cartopy/io/__init__.py:241: DownloadWarning: Downloading: https://naturalearth.s3.amazonaws.com/10m_physical/ne_10m_coastline.zip\n",
      "  warnings.warn(f'Downloading: {url}', DownloadWarning)\n",
      "/Users/tonyzhang/anaconda3/envs/skagit-met/lib/python3.9/site-packages/cartopy/io/__init__.py:241: DownloadWarning: Downloading: https://naturalearth.s3.amazonaws.com/10m_physical/ne_10m_rivers_lake_centerlines.zip\n",
      "  warnings.warn(f'Downloading: {url}', DownloadWarning)\n",
      "/Users/tonyzhang/anaconda3/envs/skagit-met/lib/python3.9/site-packages/cartopy/io/__init__.py:241: DownloadWarning: Downloading: https://naturalearth.s3.amazonaws.com/10m_cultural/ne_10m_admin_1_states_provinces_lakes.zip\n",
      "  warnings.warn(f'Downloading: {url}', DownloadWarning)\n",
      "/Users/tonyzhang/anaconda3/envs/skagit-met/lib/python3.9/site-packages/cartopy/io/__init__.py:241: DownloadWarning: Downloading: https://naturalearth.s3.amazonaws.com/10m_cultural/ne_10m_admin_0_boundary_lines_land.zip\n",
      "  warnings.warn(f'Downloading: {url}', DownloadWarning)\n"
     ]
    },
    {
     "data": {
      "image/png": "[encoded data removed]",
      "text/plain": [
       "<Figure size 800x500 with 2 Axes>"
      ]
     },
     "metadata": {},
     "output_type": "display_data"
    }
   ],
   "source": [
    "import cartopy.crs as ccrs\n",
    "import cartopy.feature as cfeature\n",
    "import matplotlib.pyplot as plt\n",
    "import cartopy\n",
    "\n",
    "skagit_surface = skagit[2]\n",
    "skagit_rh = skagit[1]\n",
    "# fig = plt.figure(figsize=(10, 10))\n",
    "# ax = plt.axes(projection=ccrs.LambertConformal())\n",
    "# ax.coastlines()\n",
    "# ax.set_extent(bounds)\n",
    "# plot = skagit_tmp.t.plot(\n",
    "#     cmap=plt.cm.coolwarm, transform=ccrs.PlateCarree(), cbar_kwargs={\"shrink\": 0.5}, x=\"latitude\", y=\"longitude\", ax=ax\n",
    "# )\n",
    "\n",
    "\n",
    "skagit_surface\n",
    "# skagit_tmp = skagit_tmp.isel(time=0) # strip the time dimension\n",
    "# lons = skagit_surface[\"longitude\"].to_numpy()\n",
    "# lats = skagit_surface[\"latitude\"].to_numpy()\n",
    "# data = (skagit_surface[\"t\"]-273.15).to_numpy()\n",
    "lons = skagit_rh[\"longitude\"].to_numpy()\n",
    "lats = skagit_rh[\"latitude\"].to_numpy()\n",
    "data = (skagit_rh[\"r2\"]).to_numpy()\n",
    "\n",
    "map_proj = ccrs.LambertConformal(\n",
    "    central_latitude=(bounds[2]+bounds[3])/2, \n",
    "    central_longitude=(bounds[0]+bounds[1])/2\n",
    ")\n",
    "\n",
    "fig, ax = plt.subplots(\n",
    "    figsize=(8, 5), facecolor=\"w\",\n",
    "    subplot_kw=dict(projection=map_proj ),\n",
    ")\n",
    "\n",
    "cm = ax.pcolormesh(lons, lats, data, cmap='turbo', transform=ccrs.PlateCarree())\n",
    "cb = fig.colorbar(cm, ax=ax, shrink=.5)\n",
    "ax.coastlines()\n",
    "ax.add_feature(cfeature.LAND)\n",
    "ax.add_feature(cfeature.COASTLINE)\n",
    "ax.add_feature(cfeature.OCEAN)\n",
    "ax.add_feature(cfeature.RIVERS)\n",
    "ax.add_feature(cfeature.STATES)\n",
    "ax.add_feature(cfeature.BORDERS)\n",
    "ax.gridlines()\n",
    "\n",
    "# plt.title(\"TMP - Skagit\")\n",
    "\n",
    "# skagit_tmp.t.sel(longitude=bounds[0], latitude=bounds[2]).plot()"
   ]
  },
  {
   "cell_type": "code",
   "execution_count": 13,
   "id": "aabe92dd-bfb8-43fb-8341-c7eec0ce17eb",
   "metadata": {},
   "outputs": [
    {
     "ename": "NameError",
     "evalue": "name 'skagit_tmp' is not defined",
     "output_type": "error",
     "traceback": [
      "\u001b[0;31m---------------------------------------------------------------------------\u001b[0m",
      "\u001b[0;31mNameError\u001b[0m                                 Traceback (most recent call last)",
      "Cell \u001b[0;32mIn[13], line 1\u001b[0m\n\u001b[0;32m----> 1\u001b[0m \u001b[43mskagit_tmp\u001b[49m\u001b[38;5;241m.\u001b[39mt\u001b[38;5;241m.\u001b[39mplot()\n",
      "\u001b[0;31mNameError\u001b[0m: name 'skagit_tmp' is not defined"
     ]
    }
   ],
   "source": [
    "skagit_tmp.t.plot()"
   ]
  },
  {
   "cell_type": "code",
   "execution_count": 14,
   "id": "580531ab-c88c-4aff-8c12-fa7d154cc355",
   "metadata": {},
   "outputs": [
    {
     "ename": "NameError",
     "evalue": "name 'h' is not defined",
     "output_type": "error",
     "traceback": [
      "\u001b[0;31m---------------------------------------------------------------------------\u001b[0m",
      "\u001b[0;31mNameError\u001b[0m                                 Traceback (most recent call last)",
      "Cell \u001b[0;32mIn[14], line 1\u001b[0m\n\u001b[0;32m----> 1\u001b[0m \u001b[43mh\u001b[49m\u001b[38;5;241m.\u001b[39mdownload(\u001b[38;5;124m\"\u001b[39m\u001b[38;5;124m^(?::TMP:surface|:RH:2 m above ground|:WIND:10 m above ground|:APCP:surface|:DSWRF:surface|:DLWRF:surface)\u001b[39m\u001b[38;5;124m\"\u001b[39m)\n",
      "\u001b[0;31mNameError\u001b[0m: name 'h' is not defined"
     ]
    }
   ],
   "source": [
    "h.download(\"^(?::TMP:surface|:RH:2 m above ground|:WIND:10 m above ground|:APCP:surface|:DSWRF:surface|:DLWRF:surface)\")"
   ]
  },
  {
   "cell_type": "code",
   "execution_count": 26,
   "id": "17c4a3c7-494c-46bc-930a-f5ff89f21e57",
   "metadata": {},
   "outputs": [
    {
     "data": {
      "text/html": [
       "<div>\n",
       "<style scoped>\n",
       "    .dataframe tbody tr th:only-of-type {\n",
       "        vertical-align: middle;\n",
       "    }\n",
       "\n",
       "    .dataframe tbody tr th {\n",
       "        vertical-align: top;\n",
       "    }\n",
       "\n",
       "    .dataframe thead th {\n",
       "        text-align: right;\n",
       "    }\n",
       "</style>\n",
       "<table border=\"1\" class=\"dataframe\">\n",
       "  <thead>\n",
       "    <tr style=\"text-align: right;\">\n",
       "      <th></th>\n",
       "      <th>grib_message</th>\n",
       "      <th>start_byte</th>\n",
       "      <th>end_byte</th>\n",
       "      <th>range</th>\n",
       "      <th>reference_time</th>\n",
       "      <th>valid_time</th>\n",
       "      <th>variable</th>\n",
       "      <th>level</th>\n",
       "      <th>forecast_time</th>\n",
       "      <th>search_this</th>\n",
       "    </tr>\n",
       "  </thead>\n",
       "  <tbody>\n",
       "    <tr>\n",
       "      <th>63</th>\n",
       "      <td>64</td>\n",
       "      <td>34940256</td>\n",
       "      <td>36222332.0</td>\n",
       "      <td>34940256-36222332</td>\n",
       "      <td>2023-01-01</td>\n",
       "      <td>2023-01-01</td>\n",
       "      <td>TMP</td>\n",
       "      <td>surface</td>\n",
       "      <td>anl</td>\n",
       "      <td>:TMP:surface:anl</td>\n",
       "    </tr>\n",
       "    <tr>\n",
       "      <th>74</th>\n",
       "      <td>75</td>\n",
       "      <td>44234631</td>\n",
       "      <td>45804243.0</td>\n",
       "      <td>44234631-45804243</td>\n",
       "      <td>2023-01-01</td>\n",
       "      <td>2023-01-01</td>\n",
       "      <td>RH</td>\n",
       "      <td>2 m above ground</td>\n",
       "      <td>anl</td>\n",
       "      <td>:RH:2 m above ground:anl</td>\n",
       "    </tr>\n",
       "    <tr>\n",
       "      <th>78</th>\n",
       "      <td>79</td>\n",
       "      <td>50884588</td>\n",
       "      <td>52092416.0</td>\n",
       "      <td>50884588-52092416</td>\n",
       "      <td>2023-01-01</td>\n",
       "      <td>2023-01-01</td>\n",
       "      <td>WIND</td>\n",
       "      <td>10 m above ground</td>\n",
       "      <td>0-0 day max fcst</td>\n",
       "      <td>:WIND:10 m above ground:0-0 day max fcst</td>\n",
       "    </tr>\n",
       "    <tr>\n",
       "      <th>83</th>\n",
       "      <td>84</td>\n",
       "      <td>54442559</td>\n",
       "      <td>54442770.0</td>\n",
       "      <td>54442559-54442770</td>\n",
       "      <td>2023-01-01</td>\n",
       "      <td>2023-01-01</td>\n",
       "      <td>APCP</td>\n",
       "      <td>surface</td>\n",
       "      <td>0-0 day acc fcst</td>\n",
       "      <td>:APCP:surface:0-0 day acc fcst</td>\n",
       "    </tr>\n",
       "    <tr>\n",
       "      <th>122</th>\n",
       "      <td>123</td>\n",
       "      <td>85698959</td>\n",
       "      <td>86360826.0</td>\n",
       "      <td>85698959-86360826</td>\n",
       "      <td>2023-01-01</td>\n",
       "      <td>2023-01-01</td>\n",
       "      <td>DSWRF</td>\n",
       "      <td>surface</td>\n",
       "      <td>anl</td>\n",
       "      <td>:DSWRF:surface:anl</td>\n",
       "    </tr>\n",
       "    <tr>\n",
       "      <th>123</th>\n",
       "      <td>124</td>\n",
       "      <td>86360827</td>\n",
       "      <td>88445279.0</td>\n",
       "      <td>86360827-88445279</td>\n",
       "      <td>2023-01-01</td>\n",
       "      <td>2023-01-01</td>\n",
       "      <td>DLWRF</td>\n",
       "      <td>surface</td>\n",
       "      <td>anl</td>\n",
       "      <td>:DLWRF:surface:anl</td>\n",
       "    </tr>\n",
       "  </tbody>\n",
       "</table>\n",
       "</div>"
      ],
      "text/plain": [
       "     grib_message  start_byte    end_byte              range reference_time  \\\n",
       "63             64    34940256  36222332.0  34940256-36222332     2023-01-01   \n",
       "74             75    44234631  45804243.0  44234631-45804243     2023-01-01   \n",
       "78             79    50884588  52092416.0  50884588-52092416     2023-01-01   \n",
       "83             84    54442559  54442770.0  54442559-54442770     2023-01-01   \n",
       "122           123    85698959  86360826.0  85698959-86360826     2023-01-01   \n",
       "123           124    86360827  88445279.0  86360827-88445279     2023-01-01   \n",
       "\n",
       "    valid_time variable              level     forecast_time  \\\n",
       "63  2023-01-01      TMP            surface               anl   \n",
       "74  2023-01-01       RH   2 m above ground               anl   \n",
       "78  2023-01-01     WIND  10 m above ground  0-0 day max fcst   \n",
       "83  2023-01-01     APCP            surface  0-0 day acc fcst   \n",
       "122 2023-01-01    DSWRF            surface               anl   \n",
       "123 2023-01-01    DLWRF            surface               anl   \n",
       "\n",
       "                                  search_this  \n",
       "63                           :TMP:surface:anl  \n",
       "74                   :RH:2 m above ground:anl  \n",
       "78   :WIND:10 m above ground:0-0 day max fcst  \n",
       "83             :APCP:surface:0-0 day acc fcst  \n",
       "122                        :DSWRF:surface:anl  \n",
       "123                        :DLWRF:surface:anl  "
      ]
     },
     "execution_count": 26,
     "metadata": {},
     "output_type": "execute_result"
    }
   ],
   "source": [
    "h.inventory(\"^(?::TMP:surface|:RH:2 m above ground|:WIND:10 m above ground|:APCP:surface|:DSWRF:surface|:DLWRF:surface)\")"
   ]
  },
  {
   "cell_type": "code",
   "execution_count": 6,
   "id": "b74980a8-ae92-4725-bedc-b2b2205bb003",
   "metadata": {},
   "outputs": [
    {
     "ename": "AttributeError",
     "evalue": "'FastHerbie' object has no attribute 'get_localFilePath'",
     "output_type": "error",
     "traceback": [
      "\u001b[0;31m---------------------------------------------------------------------------\u001b[0m",
      "\u001b[0;31mAttributeError\u001b[0m                            Traceback (most recent call last)",
      "Cell \u001b[0;32mIn[6], line 1\u001b[0m\n\u001b[0;32m----> 1\u001b[0m myFile \u001b[38;5;241m=\u001b[39m \u001b[43mfh\u001b[49m\u001b[38;5;241;43m.\u001b[39;49m\u001b[43mget_localFilePath\u001b[49m(\u001b[38;5;124m\"\u001b[39m\u001b[38;5;124m^(?::TMP:surface|:RH:2 m above ground|:WIND:10 m above ground|:APCP:surface|:DSWRF:surface|:DLWRF:surface)\u001b[39m\u001b[38;5;124m\"\u001b[39m)\n",
      "\u001b[0;31mAttributeError\u001b[0m: 'FastHerbie' object has no attribute 'get_localFilePath'"
     ]
    }
   ],
   "source": [
    "myFile = fh.get_localFilePath(\"^(?::TMP:surface|:RH:2 m above ground|:WIND:10 m above ground|:APCP:surface|:DSWRF:surface|:DLWRF:surface)\")"
   ]
  },
  {
   "cell_type": "code",
   "execution_count": 29,
   "id": "fd0e8a9e-e5ff-4f43-a900-26d780392c91",
   "metadata": {},
   "outputs": [
    {
     "data": {
      "text/plain": [
       "PosixPath('/Users/jesse/data/hrrr/20230101/subset_18ef59c7__hrrr.t00z.wrfsfcf00.grib2')"
      ]
     },
     "execution_count": 29,
     "metadata": {},
     "output_type": "execute_result"
    }
   ],
   "source": [
    "myFile"
   ]
  },
  {
   "cell_type": "code",
   "execution_count": 51,
   "id": "65658d92-f5f9-4225-a068-8774752338d1",
   "metadata": {},
   "outputs": [
    {
     "name": "stdout",
     "output_type": "stream",
     "text": [
      "1:0:d=2020020120:TMP:surface:anl:\n",
      "2:1389929:d=2020020120:RH:2 m above ground:anl:\n",
      "3:2891449:d=2020020120:WIND:10 m above ground:0-0 day max fcst:\n",
      "4:4049386:d=2020020120:APCP:surface:0-0 day acc fcst:\n",
      "5:4049598:d=2020020120:DSWRF:surface:anl:\n",
      "6:6202818:d=2020020120:DLWRF:surface:anl:\n",
      "\n"
     ]
    }
   ],
   "source": [
    "print(wgrib2.inventory('/Users/tonyzhang/data/hrrr/20200201/subset_21ef3e52__hrrr.t20z.wrfsfcf00.grib2'))"
   ]
  },
  {
   "cell_type": "code",
   "execution_count": 54,
   "id": "81b7685c-c27a-4911-b6d8-82295fc1b5c8",
   "metadata": {},
   "outputs": [
    {
     "data": {
      "text/html": [
       "<div>\n",
       "<style scoped>\n",
       "    .dataframe tbody tr th:only-of-type {\n",
       "        vertical-align: middle;\n",
       "    }\n",
       "\n",
       "    .dataframe tbody tr th {\n",
       "        vertical-align: top;\n",
       "    }\n",
       "\n",
       "    .dataframe thead th {\n",
       "        text-align: right;\n",
       "    }\n",
       "</style>\n",
       "<table border=\"1\" class=\"dataframe\">\n",
       "  <thead>\n",
       "    <tr style=\"text-align: right;\">\n",
       "      <th></th>\n",
       "      <th>0</th>\n",
       "      <th>1</th>\n",
       "      <th>2</th>\n",
       "      <th>3</th>\n",
       "      <th>4</th>\n",
       "      <th>5</th>\n",
       "      <th>6</th>\n",
       "    </tr>\n",
       "  </thead>\n",
       "  <tbody>\n",
       "    <tr>\n",
       "      <th>0</th>\n",
       "      <td>1</td>\n",
       "      <td>0</td>\n",
       "      <td>d=2020020120</td>\n",
       "      <td>TMP</td>\n",
       "      <td>surface</td>\n",
       "      <td>anl</td>\n",
       "      <td>NaN</td>\n",
       "    </tr>\n",
       "    <tr>\n",
       "      <th>1</th>\n",
       "      <td>2</td>\n",
       "      <td>1389929</td>\n",
       "      <td>d=2020020120</td>\n",
       "      <td>RH</td>\n",
       "      <td>2 m above ground</td>\n",
       "      <td>anl</td>\n",
       "      <td>NaN</td>\n",
       "    </tr>\n",
       "    <tr>\n",
       "      <th>2</th>\n",
       "      <td>3</td>\n",
       "      <td>2891449</td>\n",
       "      <td>d=2020020120</td>\n",
       "      <td>WIND</td>\n",
       "      <td>10 m above ground</td>\n",
       "      <td>0-0 day max fcst</td>\n",
       "      <td>NaN</td>\n",
       "    </tr>\n",
       "    <tr>\n",
       "      <th>3</th>\n",
       "      <td>4</td>\n",
       "      <td>4049386</td>\n",
       "      <td>d=2020020120</td>\n",
       "      <td>APCP</td>\n",
       "      <td>surface</td>\n",
       "      <td>0-0 day acc fcst</td>\n",
       "      <td>NaN</td>\n",
       "    </tr>\n",
       "    <tr>\n",
       "      <th>4</th>\n",
       "      <td>5</td>\n",
       "      <td>4049598</td>\n",
       "      <td>d=2020020120</td>\n",
       "      <td>DSWRF</td>\n",
       "      <td>surface</td>\n",
       "      <td>anl</td>\n",
       "      <td>NaN</td>\n",
       "    </tr>\n",
       "    <tr>\n",
       "      <th>5</th>\n",
       "      <td>6</td>\n",
       "      <td>6202818</td>\n",
       "      <td>d=2020020120</td>\n",
       "      <td>DLWRF</td>\n",
       "      <td>surface</td>\n",
       "      <td>anl</td>\n",
       "      <td>NaN</td>\n",
       "    </tr>\n",
       "  </tbody>\n",
       "</table>\n",
       "</div>"
      ],
      "text/plain": [
       "   0        1             2      3                  4                 5   6\n",
       "0  1        0  d=2020020120    TMP            surface               anl NaN\n",
       "1  2  1389929  d=2020020120     RH   2 m above ground               anl NaN\n",
       "2  3  2891449  d=2020020120   WIND  10 m above ground  0-0 day max fcst NaN\n",
       "3  4  4049386  d=2020020120   APCP            surface  0-0 day acc fcst NaN\n",
       "4  5  4049598  d=2020020120  DSWRF            surface               anl NaN\n",
       "5  6  6202818  d=2020020120  DLWRF            surface               anl NaN"
      ]
     },
     "execution_count": 54,
     "metadata": {},
     "output_type": "execute_result"
    }
   ],
   "source": [
    "idx_file = wgrib2.create_inventory_file('/Users/tonyzhang/data/hrrr/20200201/subset_21ef3e52__hrrr.t20z.wrfsfcf00.grib2')\n",
    "idx_file, idx_file.exists()\n",
    "pd.read_csv(idx_file, delimiter=\":\", header=None)"
   ]
  },
  {
   "cell_type": "code",
   "execution_count": 55,
   "id": "d3a143d9-9106-40b2-a55e-b04d6b0c7efb",
   "metadata": {},
   "outputs": [
    {
     "data": {
      "text/plain": [
       "PosixPath('/Users/jesse/data/hrrr/20200201/skagit-basin_subset_21ef3e52__hrrr.t20z.wrfsfcf00.grib2')"
      ]
     },
     "execution_count": 55,
     "metadata": {},
     "output_type": "execute_result"
    }
   ],
   "source": [
    "skagit_bounds = limit_geographic_range(\"skagit_boundaries.json\")\n",
    "subset_file = wgrib2.region('/Users/tonyzhang/data/hrrr/20200201/subset_21ef3e52__hrrr.t20z.wrfsfcf00.grib2', skagit_bounds, name=\"skagit-basin\")\n",
    "subset_file"
   ]
  },
  {
   "cell_type": "code",
   "execution_count": 71,
   "id": "fef8fd39-739e-4b03-95df-37a0d351e444",
   "metadata": {},
   "outputs": [
    {
     "data": {
      "text/plain": [
       "(-123.409663, -118.092281, 47.543471, 50.06801)"
      ]
     },
     "execution_count": 71,
     "metadata": {},
     "output_type": "execute_result"
    }
   ],
   "source": [
    "skagit_bounds"
   ]
  },
  {
   "cell_type": "code",
   "execution_count": 56,
   "id": "c96dc145-c688-40c5-97cd-4c894fafba9d",
   "metadata": {},
   "outputs": [
    {
     "data": {
      "text/html": [
       "<div>\n",
       "<style scoped>\n",
       "    .dataframe tbody tr th:only-of-type {\n",
       "        vertical-align: middle;\n",
       "    }\n",
       "\n",
       "    .dataframe tbody tr th {\n",
       "        vertical-align: top;\n",
       "    }\n",
       "\n",
       "    .dataframe thead th {\n",
       "        text-align: right;\n",
       "    }\n",
       "</style>\n",
       "<table border=\"1\" class=\"dataframe\">\n",
       "  <thead>\n",
       "    <tr style=\"text-align: right;\">\n",
       "      <th></th>\n",
       "      <th>0</th>\n",
       "      <th>1</th>\n",
       "      <th>2</th>\n",
       "      <th>3</th>\n",
       "      <th>4</th>\n",
       "      <th>5</th>\n",
       "      <th>6</th>\n",
       "    </tr>\n",
       "  </thead>\n",
       "  <tbody>\n",
       "    <tr>\n",
       "      <th>0</th>\n",
       "      <td>1</td>\n",
       "      <td>0</td>\n",
       "      <td>d=2020020120</td>\n",
       "      <td>TMP</td>\n",
       "      <td>surface</td>\n",
       "      <td>anl</td>\n",
       "      <td>NaN</td>\n",
       "    </tr>\n",
       "    <tr>\n",
       "      <th>1</th>\n",
       "      <td>2</td>\n",
       "      <td>18021</td>\n",
       "      <td>d=2020020120</td>\n",
       "      <td>RH</td>\n",
       "      <td>2 m above ground</td>\n",
       "      <td>anl</td>\n",
       "      <td>NaN</td>\n",
       "    </tr>\n",
       "    <tr>\n",
       "      <th>2</th>\n",
       "      <td>3</td>\n",
       "      <td>40324</td>\n",
       "      <td>d=2020020120</td>\n",
       "      <td>WIND</td>\n",
       "      <td>10 m above ground</td>\n",
       "      <td>0-0 day max fcst</td>\n",
       "      <td>NaN</td>\n",
       "    </tr>\n",
       "    <tr>\n",
       "      <th>3</th>\n",
       "      <td>4</td>\n",
       "      <td>59179</td>\n",
       "      <td>d=2020020120</td>\n",
       "      <td>APCP</td>\n",
       "      <td>surface</td>\n",
       "      <td>0-0 day acc fcst</td>\n",
       "      <td>NaN</td>\n",
       "    </tr>\n",
       "    <tr>\n",
       "      <th>4</th>\n",
       "      <td>5</td>\n",
       "      <td>59422</td>\n",
       "      <td>d=2020020120</td>\n",
       "      <td>DSWRF</td>\n",
       "      <td>surface</td>\n",
       "      <td>anl</td>\n",
       "      <td>NaN</td>\n",
       "    </tr>\n",
       "    <tr>\n",
       "      <th>5</th>\n",
       "      <td>6</td>\n",
       "      <td>90037</td>\n",
       "      <td>d=2020020120</td>\n",
       "      <td>DLWRF</td>\n",
       "      <td>surface</td>\n",
       "      <td>anl</td>\n",
       "      <td>NaN</td>\n",
       "    </tr>\n",
       "  </tbody>\n",
       "</table>\n",
       "</div>"
      ],
      "text/plain": [
       "   0      1             2      3                  4                 5   6\n",
       "0  1      0  d=2020020120    TMP            surface               anl NaN\n",
       "1  2  18021  d=2020020120     RH   2 m above ground               anl NaN\n",
       "2  3  40324  d=2020020120   WIND  10 m above ground  0-0 day max fcst NaN\n",
       "3  4  59179  d=2020020120   APCP            surface  0-0 day acc fcst NaN\n",
       "4  5  59422  d=2020020120  DSWRF            surface               anl NaN\n",
       "5  6  90037  d=2020020120  DLWRF            surface               anl NaN"
      ]
     },
     "execution_count": 56,
     "metadata": {},
     "output_type": "execute_result"
    }
   ],
   "source": [
    "pd.read_csv(str(subset_file) + \".idx\", delimiter=\":\", header=None)"
   ]
  },
  {
   "cell_type": "code",
   "execution_count": 60,
   "id": "0183561a-6f2e-4c43-8b2b-49788e97d870",
   "metadata": {},
   "outputs": [
    {
     "name": "stderr",
     "output_type": "stream",
     "text": [
      "Ignoring index file '/Users/jesse/data/hrrr/20200201/skagit-basin_subset_21ef3e52__hrrr.t20z.wrfsfcf00.grib2.9093e.idx' incompatible with GRIB file\n"
     ]
    }
   ],
   "source": [
    "# ds_region = xr.open_dataset(subset_file, engine=\"cfgrib\", backend_kwargs={'errors': 'ignore'})\n",
    "import cfgrib\n",
    "ds_region = cfgrib.open_datasets(subset_file)"
   ]
  },
  {
   "cell_type": "code",
   "execution_count": 61,
   "id": "0b72e06b-79be-4ab6-b48d-4906273db0f8",
   "metadata": {},
   "outputs": [
    {
     "data": {
      "text/plain": [
       "[<xarray.Dataset> Size: 375kB\n",
       " Dimensions:            (y: 124, x: 151)\n",
       " Coordinates:\n",
       "     time               datetime64[ns] 8B 2020-02-01T20:00:00\n",
       "     step               timedelta64[ns] 8B 00:00:00\n",
       "     heightAboveGround  float64 8B 10.0\n",
       "     latitude           (y, x) float64 150kB ...\n",
       "     longitude          (y, x) float64 150kB ...\n",
       "     valid_time         datetime64[ns] 8B ...\n",
       " Dimensions without coordinates: y, x\n",
       " Data variables:\n",
       "     si10               (y, x) float32 75kB ...\n",
       " Attributes:\n",
       "     GRIB_edition:            2\n",
       "     GRIB_centre:             kwbc\n",
       "     GRIB_centreDescription:  US National Weather Service - NCEP\n",
       "     GRIB_subCentre:          0\n",
       "     Conventions:             CF-1.7\n",
       "     institution:             US National Weather Service - NCEP,\n",
       " <xarray.Dataset> Size: 375kB\n",
       " Dimensions:            (y: 124, x: 151)\n",
       " Coordinates:\n",
       "     time               datetime64[ns] 8B 2020-02-01T20:00:00\n",
       "     step               timedelta64[ns] 8B 00:00:00\n",
       "     heightAboveGround  float64 8B 2.0\n",
       "     latitude           (y, x) float64 150kB ...\n",
       "     longitude          (y, x) float64 150kB ...\n",
       "     valid_time         datetime64[ns] 8B ...\n",
       " Dimensions without coordinates: y, x\n",
       " Data variables:\n",
       "     r2                 (y, x) float32 75kB ...\n",
       " Attributes:\n",
       "     GRIB_edition:            2\n",
       "     GRIB_centre:             kwbc\n",
       "     GRIB_centreDescription:  US National Weather Service - NCEP\n",
       "     GRIB_subCentre:          0\n",
       "     Conventions:             CF-1.7\n",
       "     institution:             US National Weather Service - NCEP,\n",
       " <xarray.Dataset> Size: 599kB\n",
       " Dimensions:     (y: 124, x: 151)\n",
       " Coordinates:\n",
       "     time        datetime64[ns] 8B 2020-02-01T20:00:00\n",
       "     step        timedelta64[ns] 8B 00:00:00\n",
       "     surface     float64 8B 0.0\n",
       "     latitude    (y, x) float64 150kB 46.72 46.72 46.73 ... 50.86 50.86 50.87\n",
       "     longitude   (y, x) float64 150kB 237.0 237.0 237.1 ... 241.5 241.6 241.6\n",
       "     valid_time  datetime64[ns] 8B 2020-02-01T20:00:00\n",
       " Dimensions without coordinates: y, x\n",
       " Data variables:\n",
       "     t           (y, x) float32 75kB ...\n",
       "     tp          (y, x) float32 75kB ...\n",
       "     dswrf       (y, x) float32 75kB ...\n",
       "     dlwrf       (y, x) float32 75kB ...\n",
       " Attributes:\n",
       "     GRIB_edition:            2\n",
       "     GRIB_centre:             kwbc\n",
       "     GRIB_centreDescription:  US National Weather Service - NCEP\n",
       "     GRIB_subCentre:          0\n",
       "     Conventions:             CF-1.7\n",
       "     institution:             US National Weather Service - NCEP]"
      ]
     },
     "execution_count": 61,
     "metadata": {},
     "output_type": "execute_result"
    }
   ],
   "source": [
    "ds_region"
   ]
  },
  {
   "cell_type": "code",
   "execution_count": 65,
   "id": "584cae9a-9d02-4feb-83a2-23181bf6bc19",
   "metadata": {},
   "outputs": [
    {
     "ename": "ModuleNotFoundError",
     "evalue": "No module named 'herbie.toolbox'",
     "output_type": "error",
     "traceback": [
      "\u001b[0;31m---------------------------------------------------------------------------\u001b[0m",
      "\u001b[0;31mModuleNotFoundError\u001b[0m                       Traceback (most recent call last)",
      "Cell \u001b[0;32mIn[65], line 2\u001b[0m\n\u001b[1;32m      1\u001b[0m \u001b[38;5;28;01mfrom\u001b[39;00m \u001b[38;5;21;01mherbie\u001b[39;00m \u001b[38;5;28;01mimport\u001b[39;00m Herbie\n\u001b[0;32m----> 2\u001b[0m \u001b[38;5;28;01mfrom\u001b[39;00m \u001b[38;5;21;01mherbie\u001b[39;00m\u001b[38;5;21;01m.\u001b[39;00m\u001b[38;5;21;01mtoolbox\u001b[39;00m \u001b[38;5;28;01mimport\u001b[39;00m EasyMap, pc, ccrs\n\u001b[1;32m      4\u001b[0m \u001b[38;5;28;01mimport\u001b[39;00m \u001b[38;5;21;01mmatplotlib\u001b[39;00m\u001b[38;5;21;01m.\u001b[39;00m\u001b[38;5;21;01mpyplot\u001b[39;00m \u001b[38;5;28;01mas\u001b[39;00m \u001b[38;5;21;01mplt\u001b[39;00m\n",
      "\u001b[0;31mModuleNotFoundError\u001b[0m: No module named 'herbie.toolbox'"
     ]
    }
   ],
   "source": [
    "from herbie import Herbie\n",
    "from herbie.toolbox import EasyMap, pc, ccrs\n",
    "\n",
    "import matplotlib.pyplot as plt"
   ]
  },
  {
   "cell_type": "code",
   "execution_count": null,
   "id": "fdec0c8d-6ee6-4153-8e7f-c9b477fa4453",
   "metadata": {},
   "outputs": [],
   "source": []
  }
 ],
 "metadata": {
  "kernelspec": {
   "display_name": "skagit-met",
   "language": "python",
   "name": "python3"
  },
  "language_info": {
   "codemirror_mode": {
    "name": "ipython",
    "version": 3
   },
   "file_extension": ".py",
   "mimetype": "text/x-python",
   "name": "python",
   "nbconvert_exporter": "python",
   "pygments_lexer": "ipython3",
   "version": "3.9.19"
  }
 },
 "nbformat": 4,
 "nbformat_minor": 5
}
