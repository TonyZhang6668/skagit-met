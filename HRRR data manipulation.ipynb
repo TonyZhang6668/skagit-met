{
 "cells": [
  {
   "cell_type": "code",
   "execution_count": 1,
   "id": "0b00b0aa-19e1-4a3d-8b39-9bb7c8175511",
   "metadata": {},
   "outputs": [],
   "source": [
    "## Potting for HRRR data from AWS (only after 2014)"
   ]
  },
  {
   "cell_type": "code",
   "execution_count": 3,
   "id": "b89d460e-fc94-47a6-8d73-49abb9cc73d5",
   "metadata": {},
   "outputs": [
    {
     "ename": "ModuleNotFoundError",
     "evalue": "No module named 's3fs'",
     "output_type": "error",
     "traceback": [
      "\u001b[0;31m---------------------------------------------------------------------------\u001b[0m",
      "\u001b[0;31mModuleNotFoundError\u001b[0m                       Traceback (most recent call last)",
      "Cell \u001b[0;32mIn[3], line 6\u001b[0m\n\u001b[1;32m      3\u001b[0m \u001b[38;5;28;01mimport\u001b[39;00m \u001b[38;5;21;01mxarray\u001b[39;00m \u001b[38;5;28;01mas\u001b[39;00m \u001b[38;5;21;01mxr\u001b[39;00m\n\u001b[1;32m      4\u001b[0m \u001b[38;5;28;01mimport\u001b[39;00m \u001b[38;5;21;01mgeojson\u001b[39;00m\n\u001b[0;32m----> 6\u001b[0m \u001b[38;5;28;01mimport\u001b[39;00m \u001b[38;5;21;01ms3fs\u001b[39;00m\n\u001b[1;32m      7\u001b[0m \u001b[38;5;28;01mimport\u001b[39;00m \u001b[38;5;21;01mmetpy\u001b[39;00m\n\u001b[1;32m      8\u001b[0m \u001b[38;5;28;01mimport\u001b[39;00m \u001b[38;5;21;01mnumpy\u001b[39;00m \u001b[38;5;28;01mas\u001b[39;00m \u001b[38;5;21;01mnp\u001b[39;00m\n",
      "\u001b[0;31mModuleNotFoundError\u001b[0m: No module named 's3fs'"
     ]
    }
   ],
   "source": [
    "from herbie import Herbie, FastHerbie, wgrib2\n",
    "import pandas as pd\n",
    "import xarray as xr\n",
    "import geojson\n",
    "\n",
    "import s3fs\n",
    "import metpy\n",
    "import numpy as np\n",
    "import matplotlib.pyplot as plt\n",
    "import cartopy.crs as ccrs\n",
    "import cartopy.feature as cfeature"
   ]
  },
  {
   "cell_type": "code",
   "execution_count": null,
   "id": "b371ecb6-8ecc-45b4-98bb-a780e410ecf7",
   "metadata": {},
   "outputs": [],
   "source": [
    "date = '20211016'\n",
    "hour = '21'\n",
    "var = 'TMP'\n",
    "level = 'surface'\n",
    "url1 = 's3://hrrrzarr/sfc/' + date + '/' + date + '_' + hour + 'z_anl.zarr/' + level + '/' + var + '/' + level\n",
    "url2 = 's3://hrrrzarr/sfc/' + date + '/' + date + '_' + hour + 'z_anl.zarr/' + level + '/' + var\n",
    "print(url1)\n",
    "print(url2)"
   ]
  },
  {
   "cell_type": "code",
   "execution_count": null,
   "id": "657c5713-d0bb-46d1-86f9-cbb3c9e99d63",
   "metadata": {},
   "outputs": [],
   "source": [
    "fs = s3fs.S3FileSystem(anon=True)\n",
    "file1 = s3fs.S3Map(url1, s3=fs)\n",
    "file2 = s3fs.S3Map(url2, s3=fs)"
   ]
  },
  {
   "cell_type": "code",
   "execution_count": null,
   "id": "c4c1362b-42fe-449e-9e37-786a007bdc97",
   "metadata": {},
   "outputs": [],
   "source": [
    "ds = xr.open_mfdataset([file1,file2], engine='zarr')"
   ]
  },
  {
   "cell_type": "code",
   "execution_count": null,
   "id": "2c07f268-7328-4d5a-b7b3-15e5d1d04dd4",
   "metadata": {},
   "outputs": [],
   "source": [
    "ds"
   ]
  },
  {
   "cell_type": "code",
   "execution_count": null,
   "id": "769c6761-162d-435d-aa33-133c8f51690b",
   "metadata": {},
   "outputs": [],
   "source": [
    "lon1 = 262.5\n",
    "lat1 = 38.5\n",
    "slat = 38.5\n",
    "projData= ccrs.LambertConformal(central_longitude=lon1,\n",
    "                             central_latitude=lat1,\n",
    "                             standard_parallels=[slat,slat],globe=ccrs.Globe(semimajor_axis=6371229,\n",
    "                                        semiminor_axis=6371229))\n",
    "\n",
    "\n"
   ]
  },
  {
   "cell_type": "code",
   "execution_count": null,
   "id": "d763b7a7-c90a-4c3b-84a0-f8fa0af29f82",
   "metadata": {},
   "outputs": [],
   "source": [
    "ds.coords"
   ]
  },
  {
   "cell_type": "code",
   "execution_count": null,
   "id": "203658d7-d3a1-4644-97b7-0cf113ba435d",
   "metadata": {},
   "outputs": [],
   "source": [
    "airTemp = ds.TMP"
   ]
  },
  {
   "cell_type": "code",
   "execution_count": null,
   "id": "993eb511-43b5-4e94-8cb0-8c97a8e361b1",
   "metadata": {},
   "outputs": [],
   "source": [
    "airTemp"
   ]
  },
  {
   "cell_type": "code",
   "execution_count": null,
   "id": "e109c67e-b010-4d1e-87b2-827471aeccc3",
   "metadata": {},
   "outputs": [],
   "source": [
    "# Dask\n",
    "airTemp = airTemp.metpy.convert_units('degC')\n",
    "airTemp"
   ]
  },
  {
   "cell_type": "code",
   "execution_count": null,
   "id": "b198eb59-06b5-4a87-98a8-826e1ed4c260",
   "metadata": {},
   "outputs": [],
   "source": [
    "x = airTemp.projection_x_coordinate\n",
    "y = airTemp.projection_y_coordinate"
   ]
  },
  {
   "cell_type": "code",
   "execution_count": null,
   "id": "8c8d1090-7341-48c8-b5df-56e7d3431ab5",
   "metadata": {},
   "outputs": [],
   "source": [
    "# Visualize data\n",
    "airTemp.plot(figsize=(11,8.5))"
   ]
  },
  {
   "cell_type": "code",
   "execution_count": null,
   "id": "729b019f-2db2-47de-b48b-c6aeba6ca0b7",
   "metadata": {},
   "outputs": [],
   "source": [
    "airTemp.min()"
   ]
  },
  {
   "cell_type": "code",
   "execution_count": null,
   "id": "3f722372-b4a3-4f28-8ea8-d658289edfcb",
   "metadata": {},
   "outputs": [],
   "source": [
    "minTemp = airTemp.min().compute()\n",
    "maxTemp = airTemp.max().compute()\n",
    "minTemp.values, maxTemp.values"
   ]
  },
  {
   "cell_type": "code",
   "execution_count": null,
   "id": "0d73f6b7-96b1-430a-bf6c-0ef5e8145bad",
   "metadata": {},
   "outputs": [],
   "source": [
    "fint = np.arange(np.floor(minTemp.values),np.ceil(maxTemp.values) + 2, 2)\n",
    "fint"
   ]
  },
  {
   "cell_type": "code",
   "execution_count": null,
   "id": "0f897440-fef8-425e-a557-567c1e643b3d",
   "metadata": {},
   "outputs": [],
   "source": [
    "latN = 50.4\n",
    "latS = 24.25\n",
    "lonW = -123.8\n",
    "lonE = -71.2\n",
    "\n",
    "res = '50m'\n",
    "\n",
    "fig = plt.figure(figsize=(18,12))\n",
    "ax = plt.subplot(1,1,1,projection=projData)\n",
    "ax.set_extent ([lonW,lonE,latS,latN],crs=ccrs.PlateCarree())\n",
    "ax.add_feature(cfeature.COASTLINE.with_scale(res))\n",
    "ax.add_feature(cfeature.STATES.with_scale(res))\n",
    "\n",
    "# Add the title\n",
    "tl1 = str('HRRR temperature surface ($^\\circ$C)')\n",
    "tl2 = str('Analysis valid at: '+ hour + '00 UTC ' + date  )\n",
    "plt.title(tl1+'\\n'+tl2,fontsize=16)\n",
    "\n",
    "# Contour fill\n",
    "CF = ax.contourf(x,y,airTemp,levels=fint,cmap=plt.get_cmap('coolwarm'))\n",
    "# Make a colorbar for the ContourSet returned by the contourf call.\n",
    "cbar = fig.colorbar(CF,shrink=0.5)\n",
    "cbar.set_label(r'Temperature Surface($^\\circ$C)', size='large')"
   ]
  },
  {
   "cell_type": "code",
   "execution_count": null,
   "id": "ecc419e2-32c2-40ab-aa7c-9b149aab4d14",
   "metadata": {},
   "outputs": [],
   "source": []
  }
 ],
 "metadata": {
  "kernelspec": {
   "display_name": "Python 3 (ipykernel)",
   "language": "python",
   "name": "python3"
  },
  "language_info": {
   "codemirror_mode": {
    "name": "ipython",
    "version": 3
   },
   "file_extension": ".py",
   "mimetype": "text/x-python",
   "name": "python",
   "nbconvert_exporter": "python",
   "pygments_lexer": "ipython3",
   "version": "3.9.19"
  }
 },
 "nbformat": 4,
 "nbformat_minor": 5
}
