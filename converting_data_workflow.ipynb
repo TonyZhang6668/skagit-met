{
 "cells": [
  {
   "cell_type": "code",
   "execution_count": null,
   "metadata": {},
   "outputs": [],
   "source": [
    "import os\n",
    "import numpy as np\n",
    "import xarray as xr"
   ]
  },
  {
   "cell_type": "code",
   "execution_count": 6,
   "metadata": {},
   "outputs": [
    {
     "ename": "SyntaxError",
     "evalue": "invalid syntax (3288859443.py, line 1)",
     "output_type": "error",
     "traceback": [
      "\u001b[0;36m  Cell \u001b[0;32mIn[6], line 1\u001b[0;36m\u001b[0m\n\u001b[0;31m    wgrib2 /Users/tonyzhang/data/hrrr/20200201/subset_21ef3e52__hrrr.t20z.wrfsfcf00.grib2 -match \":TMP:surface\" -netcdf output.nc\u001b[0m\n\u001b[0m                                                                                                 ^\u001b[0m\n\u001b[0;31mSyntaxError\u001b[0m\u001b[0;31m:\u001b[0m invalid syntax\n"
     ]
    }
   ],
   "source": [
    "wgrib2 /Users/tonyzhang/data/hrrr/20200201/subset_21ef3e52__hrrr.t20z.wrfsfcf00.grib2 -match \":TMP:surface\" -netcdf output.nc"
   ]
  },
  {
   "cell_type": "code",
   "execution_count": null,
   "metadata": {},
   "outputs": [],
   "source": [
    "\n",
    "\n",
    "ds = xr.open_dataset('output.nc')\n",
    "\n",
    "precipitation = ds['TEMP_surface'].values\n",
    "\n",
    "\n",
    "with open('accumulated.txt', 'w') as f:\n",
    "    for time_step in range(precipitation.shape[0]):\n",
    "        np.savetxt(f, precipitation[time_step, :, :], fmt='%.2f')\n",
    "        f.write('\\n')"
   ]
  },
  {
   "cell_type": "code",
   "execution_count": null,
   "metadata": {},
   "outputs": [],
   "source": [
    "def extract_hrrr_data(grib_file, var_name, output_nc):\n",
    "    os.system(f'wgrib2 {grib_file} -match \"({var_name})\" -netcdf {output_nc}')\n",
    "\n",
    "def convert_to_dhsvm_format(nc_file, var_name, dhsvm_output_file):\n",
    "    ds = xr.open_dataset(nc_file)\n",
    "    var_data = ds[var_name].values\n",
    "    \n",
    "    with open(dhsvm_output_file, 'w') as f:\n",
    "        for time_step in range(var_data.shape[0]):\n",
    "            np.savetxt(f, var_data[time_step, :, :], fmt='%.2f')\n",
    "            f.write('\\n')\n",
    "\n",
    "# Example usage\n",
    "grib_file = 'subset_21ef3e52__hrrr.t20z.wrfsfcf00.grib2'\n",
    "nc_file = 'output.nc'\n",
    "var_name = 'TEMP_surface'\n",
    "dhsvm_output_file = 'accumulated.txt'\n",
    "\n",
    "extract_hrrr_data(grib_file, var_name, nc_file)\n",
    "convert_to_dhsvm_format(nc_file, var_name, dhsvm_output_file)"
   ]
  }
 ],
 "metadata": {
  "kernelspec": {
   "display_name": "skagit-met",
   "language": "python",
   "name": "python3"
  },
  "language_info": {
   "codemirror_mode": {
    "name": "ipython",
    "version": 3
   },
   "file_extension": ".py",
   "mimetype": "text/x-python",
   "name": "python",
   "nbconvert_exporter": "python",
   "pygments_lexer": "ipython3",
   "version": "3.9.19"
  }
 },
 "nbformat": 4,
 "nbformat_minor": 2
}
